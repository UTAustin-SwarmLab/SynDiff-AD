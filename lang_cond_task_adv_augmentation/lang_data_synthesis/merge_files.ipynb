{
 "cells": [
  {
   "cell_type": "code",
   "execution_count": 15,
   "metadata": {},
   "outputs": [],
   "source": [
    "import pandas as pd\n",
    "import numpy as np\n",
    "import os"
   ]
  },
  {
   "cell_type": "code",
   "execution_count": null,
   "metadata": {},
   "outputs": [],
   "source": [
    "# Use this script to generate a scv that merges the data from all CSVs\n",
    "\n",
    "#used for llava captioning and synthetic data generation"
   ]
  },
  {
   "cell_type": "markdown",
   "metadata": {},
   "source": [
    "# WAYMO LLAVA\n"
   ]
  },
  {
   "cell_type": "code",
   "execution_count": 16,
   "metadata": {},
   "outputs": [],
   "source": [
    "PATH= \"../waymo_open_data/\"\n",
    "if os.path.exists(PATH):\n",
    "    files = os.listdir(PATH)\n",
    "    \n",
    "df_list = []\n",
    "file_names = []\n",
    "for f in files:\n",
    "    if f.endswith(\".csv\"):\n",
    "        fname = f.split(\".\")[0]\n",
    "        if len(fname.split(\"_\"))==4 and fname.split(\"_\")[1]==\"captions\":\n",
    "            file_names = fname.split(\"_\")[:-1]\n",
    "            df_list.append(pd.read_csv(PATH+f))\n",
    "            "
   ]
  },
  {
   "cell_type": "code",
   "execution_count": 17,
   "metadata": {},
   "outputs": [
    {
     "name": "stdout",
     "output_type": "stream",
     "text": [
      "[                                content_name     context_frame  camera_id  \\\n",
      "0     10023947602400723454_1120_000_1140_000  1552440213362519          1   \n",
      "1     10023947602400723454_1120_000_1140_000  1552440213362519          2   \n",
      "2     10023947602400723454_1120_000_1140_000  1552440213562524          0   \n",
      "3     10023947602400723454_1120_000_1140_000  1552440213562524          1   \n",
      "4     10023947602400723454_1120_000_1140_000  1552440213562524          2   \n",
      "...                                      ...               ...        ...   \n",
      "3947     990914685337955114_980_000_1000_000  1557853474112249          2   \n",
      "3948     990914685337955114_980_000_1000_000  1557853477922791          0   \n",
      "3949     990914685337955114_980_000_1000_000  1557853477922791          1   \n",
      "3950     990914685337955114_980_000_1000_000  1557853477922791          2   \n",
      "3951     990914685337955114_980_000_1000_000  1557853478322360          0   \n",
      "\n",
      "                                                caption  \n",
      "0      This image is taken during  Day time of the d...  \n",
      "1      This image is taken during  Day time of the d...  \n",
      "2      This image is taken during  Day time of the d...  \n",
      "3      This image is taken during  Day time of the d...  \n",
      "4      This image is taken during  Day time of the d...  \n",
      "...                                                 ...  \n",
      "3947   This image is taken during  Day time of the d...  \n",
      "3948   This image is taken during  Day time of the d...  \n",
      "3949   This image is taken during  Day time of the d...  \n",
      "3950   This image is taken during  Day time of the d...  \n",
      "3951   This image is taken during  Day time of the d...  \n",
      "\n",
      "[3952 rows x 4 columns],                                 content_name     context_frame  camera_id  \\\n",
      "0     10017090168044687777_6380_000_6400_000  1550083474648906          1   \n",
      "1     10017090168044687777_6380_000_6400_000  1550083474648906          2   \n",
      "2     10017090168044687777_6380_000_6400_000  1550083475049006          0   \n",
      "3     10017090168044687777_6380_000_6400_000  1550083475049006          1   \n",
      "4     10017090168044687777_6380_000_6400_000  1550083475049006          2   \n",
      "...                                      ...               ...        ...   \n",
      "3947   9985243312780923024_3049_720_3069_720  1507312253230489          1   \n",
      "3948   9985243312780923024_3049_720_3069_720  1507312253230489          2   \n",
      "3949   9985243312780923024_3049_720_3069_720  1507312253430455          0   \n",
      "3950   9985243312780923024_3049_720_3069_720  1507312253430455          1   \n",
      "3951   9985243312780923024_3049_720_3069_720  1507312253430455          2   \n",
      "\n",
      "                                                caption  \n",
      "0      This image is taken during  Day time of the d...  \n",
      "1      This image is taken during  Day time of the d...  \n",
      "2      This image is taken during  Day time of the d...  \n",
      "3      This image is taken during  Day time of the d...  \n",
      "4      This image is taken during  Day time of the d...  \n",
      "...                                                 ...  \n",
      "3947   This image is taken during  Day time of the d...  \n",
      "3948   This image is taken during  Day time of the d...  \n",
      "3949   This image is taken during  Day time of the d...  \n",
      "3950   This image is taken during  Day time of the d...  \n",
      "3951   This image is taken during  Day time of the d...  \n",
      "\n",
      "[3952 rows x 4 columns],                                 content_name     context_frame  camera_id  \\\n",
      "0     10017090168044687777_6380_000_6400_000  1550083469645130          0   \n",
      "1     10017090168044687777_6380_000_6400_000  1550083469645130          1   \n",
      "2     10017090168044687777_6380_000_6400_000  1550083469645130          2   \n",
      "3     10017090168044687777_6380_000_6400_000  1550083470045260          0   \n",
      "4     10017090168044687777_6380_000_6400_000  1550083470045260          1   \n",
      "...                                      ...               ...        ...   \n",
      "3995   9985243312780923024_3049_720_3069_720  1507312243030216          2   \n",
      "3996   9985243312780923024_3049_720_3069_720  1507312243230065          0   \n",
      "3997   9985243312780923024_3049_720_3069_720  1507312243230065          1   \n",
      "3998   9985243312780923024_3049_720_3069_720  1507312243230065          2   \n",
      "3999   9985243312780923024_3049_720_3069_720  1507312243429992          0   \n",
      "\n",
      "                                                caption  \n",
      "0      This image is taken during  Day time of the d...  \n",
      "1      This image is taken during  Day time of the d...  \n",
      "2      This image is taken during  Day time of the d...  \n",
      "3      This image is taken during  Day time of the d...  \n",
      "4      This image is taken during  Day time of the d...  \n",
      "...                                                 ...  \n",
      "3995   This image is taken during  Day time of the d...  \n",
      "3996   This image is taken during  Day time of the d...  \n",
      "3997   This image is taken during  Day time of the d...  \n",
      "3998   This image is taken during  Day time of the d...  \n",
      "3999   This image is taken during  Day time of the d...  \n",
      "\n",
      "[4000 rows x 4 columns],                                content_name     context_frame  camera_id  \\\n",
      "0     1005081002024129653_5313_150_5333_150  1510593603139948          2   \n",
      "1     1005081002024129653_5313_150_5333_150  1510593603339816          0   \n",
      "2     1005081002024129653_5313_150_5333_150  1510593603339816          1   \n",
      "3     1005081002024129653_5313_150_5333_150  1510593603339816          2   \n",
      "4     1005081002024129653_5313_150_5333_150  1510593603739758          0   \n",
      "...                                     ...               ...        ...   \n",
      "3947  9907794657177651763_1126_570_1146_570  1508280783839437          2   \n",
      "3948  9907794657177651763_1126_570_1146_570  1508280784239475          0   \n",
      "3949  9907794657177651763_1126_570_1146_570  1508280784239475          1   \n",
      "3950  9907794657177651763_1126_570_1146_570  1508280784239475          2   \n",
      "3951  9907794657177651763_1126_570_1146_570  1508280788039741          0   \n",
      "\n",
      "                                                caption  \n",
      "0      This image is taken during  Day time of the d...  \n",
      "1      This image is taken during  Day time of the d...  \n",
      "2      This image is taken during  Day time of the d...  \n",
      "3      This image is taken during  Day time of the d...  \n",
      "4      This image is taken during  Day time of the d...  \n",
      "...                                                 ...  \n",
      "3947   This image is taken during  Day time of the d...  \n",
      "3948   This image is taken during  Day time of the d...  \n",
      "3949   This image is taken during  Day time of the d...  \n",
      "3950   This image is taken during  Day time of the d...  \n",
      "3951   This image is taken during  Day time of the d...  \n",
      "\n",
      "[3952 rows x 4 columns],                                 content_name     context_frame  camera_id  \\\n",
      "0     10023947602400723454_1120_000_1140_000  1552440198161543          1   \n",
      "1     10023947602400723454_1120_000_1140_000  1552440198161543          2   \n",
      "2     10023947602400723454_1120_000_1140_000  1552440198361627          0   \n",
      "3     10023947602400723454_1120_000_1140_000  1552440198361627          1   \n",
      "4     10023947602400723454_1120_000_1140_000  1552440198361627          2   \n",
      "...                                      ...               ...        ...   \n",
      "3995   9907794657177651763_1126_570_1146_570  1508280794239762          1   \n",
      "3996   9907794657177651763_1126_570_1146_570  1508280794239762          2   \n",
      "3997     990914685337955114_980_000_1000_000  1557853472909891          0   \n",
      "3998     990914685337955114_980_000_1000_000  1557853472909891          1   \n",
      "3999     990914685337955114_980_000_1000_000  1557853472909891          2   \n",
      "\n",
      "                                                caption  \n",
      "0      This image is taken during  Day time of the d...  \n",
      "1      This image is taken during  Day time of the d...  \n",
      "2      This image is taken during  Day time of the d...  \n",
      "3      This image is taken during  Day time of the d...  \n",
      "4      This image is taken during  Day time of the d...  \n",
      "...                                                 ...  \n",
      "3995   This image is taken during  Day time of the d...  \n",
      "3996   This image is taken during  Day time of the d...  \n",
      "3997   This image is taken during  Day time of the d...  \n",
      "3998   This image is taken during  Day time of the d...  \n",
      "3999   This image is taken during  Day time of the d...  \n",
      "\n",
      "[4000 rows x 4 columns],                                 content_name     context_frame  camera_id  \\\n",
      "0     10023947602400723454_1120_000_1140_000  1552440203162558          2   \n",
      "1     10023947602400723454_1120_000_1140_000  1552440203362569          0   \n",
      "2     10023947602400723454_1120_000_1140_000  1552440203362569          1   \n",
      "3     10023947602400723454_1120_000_1140_000  1552440203362569          2   \n",
      "4     10023947602400723454_1120_000_1140_000  1552440203562534          0   \n",
      "...                                      ...               ...        ...   \n",
      "3963     990914685337955114_980_000_1000_000  1557853483321004          0   \n",
      "3964     990914685337955114_980_000_1000_000  1557853483321004          1   \n",
      "3965     990914685337955114_980_000_1000_000  1557853483321004          2   \n",
      "3966     990914685337955114_980_000_1000_000  1557853483519873          0   \n",
      "3967     990914685337955114_980_000_1000_000  1557853483519873          1   \n",
      "\n",
      "                                                caption  \n",
      "0      This image is taken during  Day time of the d...  \n",
      "1      This image is taken during  Day time of the d...  \n",
      "2      This image is taken during  Day time of the d...  \n",
      "3      This image is taken during  Day time of the d...  \n",
      "4      This image is taken during  Day time of the d...  \n",
      "...                                                 ...  \n",
      "3963   This image is taken during  Day time of the d...  \n",
      "3964   This image is taken during  Day time of the d...  \n",
      "3965   This image is taken during  Day time of the d...  \n",
      "3966   This image is taken during  Day time of the d...  \n",
      "3967   This image is taken during  Day time of the d...  \n",
      "\n",
      "[3968 rows x 4 columns],                                content_name     context_frame  camera_id  \\\n",
      "0     1005081002024129653_5313_150_5333_150  1510593608339754          0   \n",
      "1     1005081002024129653_5313_150_5333_150  1510593608339754          1   \n",
      "2     1005081002024129653_5313_150_5333_150  1510593608339754          2   \n",
      "3     1005081002024129653_5313_150_5333_150  1510593608739771          0   \n",
      "4     1005081002024129653_5313_150_5333_150  1510593608739771          1   \n",
      "...                                     ...               ...        ...   \n",
      "3949  9907794657177651763_1126_570_1146_570  1508280789239405          2   \n",
      "3950  9907794657177651763_1126_570_1146_570  1508280793039363          0   \n",
      "3951  9907794657177651763_1126_570_1146_570  1508280793039363          1   \n",
      "3952  9985243312780923024_3049_720_3069_720  1507312258830731          1   \n",
      "3953  9985243312780923024_3049_720_3069_720  1507312258830731          2   \n",
      "\n",
      "                                                caption  \n",
      "0      This image is taken during  Day time of the d...  \n",
      "1      This image is taken during  Day time of the d...  \n",
      "2      This image is taken during  Day time of the d...  \n",
      "3      This image is taken during  Day time of the d...  \n",
      "4      This image is taken during  Day time of the d...  \n",
      "...                                                 ...  \n",
      "3949   This image is taken during  Day time of the d...  \n",
      "3950   This image is taken during  Day time of the d...  \n",
      "3951   This image is taken during  Day time of the d...  \n",
      "3952   This image is taken during  Day time of the d...  \n",
      "3953   This image is taken during  Day time of the d...  \n",
      "\n",
      "[3954 rows x 4 columns],                                 content_name     context_frame  camera_id  \\\n",
      "0     10017090168044687777_6380_000_6400_000  1550083485048877          0   \n",
      "1     10017090168044687777_6380_000_6400_000  1550083485048877          1   \n",
      "2     10017090168044687777_6380_000_6400_000  1550083485048877          2   \n",
      "3     10017090168044687777_6380_000_6400_000  1550083485248890          0   \n",
      "4     10017090168044687777_6380_000_6400_000  1550083485248890          1   \n",
      "...                                      ...               ...        ...   \n",
      "3915   9985243312780923024_3049_720_3069_720  1507312248230443          0   \n",
      "3916   9985243312780923024_3049_720_3069_720  1507312248230443          1   \n",
      "3917   9985243312780923024_3049_720_3069_720  1507312248230443          2   \n",
      "3918   9985243312780923024_3049_720_3069_720  1507312248430481          0   \n",
      "3919   9985243312780923024_3049_720_3069_720  1507312248430481          1   \n",
      "\n",
      "                                                caption  \n",
      "0      This image is taken during  Day time of the d...  \n",
      "1      This image is taken during  Day time of the d...  \n",
      "2      This image is taken during  Day time of the d...  \n",
      "3      This image is taken during  Day time of the d...  \n",
      "4      This image is taken during  Day time of the d...  \n",
      "...                                                 ...  \n",
      "3915   This image is taken during  Day time of the d...  \n",
      "3916   This image is taken during  Day time of the d...  \n",
      "3917   This image is taken during  Day time of the d...  \n",
      "3918   This image is taken during  Day time of the d...  \n",
      "3919   This image is taken during  Day time of the d...  \n",
      "\n",
      "[3920 rows x 4 columns],                                 content_name     context_frame  camera_id  \\\n",
      "0     10023947602400723454_1120_000_1140_000  1552440208362613          0   \n",
      "1     10023947602400723454_1120_000_1140_000  1552440208362613          1   \n",
      "2     10023947602400723454_1120_000_1140_000  1552440208362613          2   \n",
      "3     10023947602400723454_1120_000_1140_000  1552440208562580          0   \n",
      "4     10023947602400723454_1120_000_1140_000  1552440208562580          1   \n",
      "...                                      ...               ...        ...   \n",
      "3963   9985243312780923024_3049_720_3069_720  1507312258230661          2   \n",
      "3964   9985243312780923024_3049_720_3069_720  1507312258430720          0   \n",
      "3965   9985243312780923024_3049_720_3069_720  1507312258430720          1   \n",
      "3966   9985243312780923024_3049_720_3069_720  1507312258430720          2   \n",
      "3967   9985243312780923024_3049_720_3069_720  1507312258830731          0   \n",
      "\n",
      "                                                caption  \n",
      "0      This image is taken during  Day time of the d...  \n",
      "1      This image is taken during  Day time of the d...  \n",
      "2      This image is taken during  Day time of the d...  \n",
      "3      This image is taken during  Day time of the d...  \n",
      "4      This image is taken during  Day time of the d...  \n",
      "...                                                 ...  \n",
      "3963   This image is taken during  Day time of the d...  \n",
      "3964   This image is taken during  Day time of the d...  \n",
      "3965   This image is taken during  Day time of the d...  \n",
      "3966   This image is taken during  Day time of the d...  \n",
      "3967   This image is taken during  Day time of the d...  \n",
      "\n",
      "[3968 rows x 4 columns],                                 content_name     context_frame  camera_id  \\\n",
      "0     10017090168044687777_6380_000_6400_000  1550083479648989          2   \n",
      "1     10017090168044687777_6380_000_6400_000  1550083480049065          0   \n",
      "2     10017090168044687777_6380_000_6400_000  1550083480049065          1   \n",
      "3     10017090168044687777_6380_000_6400_000  1550083480049065          2   \n",
      "4     10017090168044687777_6380_000_6400_000  1550083480249090          0   \n",
      "...                                      ...               ...        ...   \n",
      "3947     990914685337955114_980_000_1000_000  1557853488296978          1   \n",
      "3948     990914685337955114_980_000_1000_000  1557853488296978          2   \n",
      "3949     990914685337955114_980_000_1000_000  1557853488497033          0   \n",
      "3950     990914685337955114_980_000_1000_000  1557853488497033          1   \n",
      "3951     990914685337955114_980_000_1000_000  1557853488497033          2   \n",
      "\n",
      "                                                caption  \n",
      "0      This image is taken during  Day time of the d...  \n",
      "1      This image is taken during  Day time of the d...  \n",
      "2      This image is taken during  Day time of the d...  \n",
      "3      This image is taken during  Day time of the d...  \n",
      "4      This image is taken during  Day time of the d...  \n",
      "...                                                 ...  \n",
      "3947   This image is taken during  Day time of the d...  \n",
      "3948   This image is taken during  Day time of the d...  \n",
      "3949   This image is taken during  Day time of the d...  \n",
      "3950   This image is taken during  Day time of the d...  \n",
      "3951   This image is taken during  Day time of the d...  \n",
      "\n",
      "[3952 rows x 4 columns]]\n",
      "['waymo', 'captions', 'train']\n"
     ]
    }
   ],
   "source": [
    "print(df_list)\n",
    "print(file_names)"
   ]
  },
  {
   "cell_type": "code",
   "execution_count": 18,
   "metadata": {},
   "outputs": [],
   "source": [
    "merged_df = pd.concat(df_list, axis=0)\n",
    "merged_df.to_csv(PATH+\"{}_{}_{}.csv\".format(file_names[0],file_names[1],file_names[2]), index=False)"
   ]
  },
  {
   "cell_type": "code",
   "execution_count": 19,
   "metadata": {},
   "outputs": [
    {
     "name": "stdout",
     "output_type": "stream",
     "text": [
      "39618\n"
     ]
    }
   ],
   "source": [
    "df = pd.read_csv(PATH+\"{}_{}_{}.csv\".format(file_names[0],file_names[1],file_names[2]))\n",
    "print(len(df))"
   ]
  },
  {
   "cell_type": "markdown",
   "metadata": {},
   "source": [
    "# BDD LLAVA\n",
    "\n"
   ]
  },
  {
   "cell_type": "code",
   "execution_count": 5,
   "metadata": {},
   "outputs": [
    {
     "name": "stdout",
     "output_type": "stream",
     "text": [
      "7000\n"
     ]
    }
   ],
   "source": [
    "PATH= \"../bdd100k/\"\n",
    "if os.path.exists(PATH):\n",
    "    files = os.listdir(PATH)\n",
    "    \n",
    "df_list = []\n",
    "file_names = []\n",
    "for f in files:\n",
    "    if f.endswith(\".csv\"):\n",
    "        fname = f.split(\".\")[0]\n",
    "        if len(fname.split(\"_\"))==4 and fname.split(\"_\")[1]==\"captions\":\n",
    "            file_names = fname.split(\"_\")[:-1]\n",
    "            df_list.append(pd.read_csv(PATH+f))\n",
    "\n",
    "merged_df = pd.concat(df_list, axis=0)\n",
    "merged_df.to_csv(PATH+\"{}_{}_{}.csv\".format(file_names[0],file_names[1],file_names[2]), index=False)\n",
    "df = pd.read_csv(PATH+\"{}_{}_{}.csv\".format(file_names[0],file_names[1],file_names[2]))\n",
    "print(len(df))"
   ]
  },
  {
   "cell_type": "code",
   "execution_count": 6,
   "metadata": {},
   "outputs": [
    {
     "name": "stdout",
     "output_type": "stream",
     "text": [
      "7000\n"
     ]
    }
   ],
   "source": [
    "df = pd.read_csv(PATH+\"{}_{}_{}.csv\".format(file_names[0],file_names[1],file_names[2]))\n",
    "print(len(df))"
   ]
  },
  {
   "cell_type": "markdown",
   "metadata": {},
   "source": [
    "# CARLA LLAVA"
   ]
  },
  {
   "cell_type": "code",
   "execution_count": 13,
   "metadata": {},
   "outputs": [
    {
     "name": "stdout",
     "output_type": "stream",
     "text": [
      "14340\n"
     ]
    }
   ],
   "source": [
    "PATH= \"../carla/\"\n",
    "if os.path.exists(PATH):\n",
    "    files = os.listdir(PATH)\n",
    "    \n",
    "df_list = []\n",
    "file_names = []\n",
    "for f in files:\n",
    "    if f.endswith(\".csv\"):\n",
    "        fname = f.split(\".\")[0]\n",
    "        if len(fname.split(\"_\"))==4 and fname.split(\"_\")[1]==\"captions\":\n",
    "            file_names = fname.split(\"_\")[:-1]\n",
    "            df_list.append(pd.read_csv(PATH+f))\n",
    "\n",
    "merged_df = pd.concat(df_list, axis=0)\n",
    "merged_df.to_csv(PATH+\"{}_{}_{}.csv\".format(file_names[0],file_names[1],file_names[2]), index=False)\n",
    "df = pd.read_csv(PATH+\"{}_{}_{}.csv\".format(file_names[0],file_names[1],file_names[2]))\n",
    "print(len(df))"
   ]
  },
  {
   "cell_type": "code",
   "execution_count": 14,
   "metadata": {},
   "outputs": [
    {
     "name": "stdout",
     "output_type": "stream",
     "text": [
      "14340\n"
     ]
    }
   ],
   "source": [
    "df = pd.read_csv(PATH+\"{}_{}_{}.csv\".format(file_names[0],file_names[1],file_names[2]))\n",
    "print(len(df))"
   ]
  },
  {
   "cell_type": "markdown",
   "metadata": {},
   "source": [
    "# WAYMO SYNTH\n"
   ]
  },
  {
   "cell_type": "code",
   "execution_count": 2,
   "metadata": {},
   "outputs": [],
   "source": [
    "PATH= \"/store/harsh/data/waymo_synthetic_ft/\"\n",
    "if os.path.exists(PATH):\n",
    "    files = os.listdir(PATH)\n",
    "    \n",
    "df_list = []\n",
    "file_names = []\n",
    "for f in files:\n",
    "    if f.endswith(\".csv\"):\n",
    "        fname = f.split(\".\")[0]\n",
    "        if len(fname.split(\"_\"))==3 and fname.split(\"_\")[0]==\"metadata\":\n",
    "            file_names = fname.split(\"_\")[:-1]\n",
    "            df_list.append(pd.read_csv(PATH+f))\n",
    "\n",
    "merged_df = pd.concat(df_list, axis=0)\n",
    "merged_df.to_csv(PATH+\"{}_{}.csv\".format(file_names[0],file_names[1]), index=False)"
   ]
  },
  {
   "cell_type": "code",
   "execution_count": 3,
   "metadata": {},
   "outputs": [
    {
     "name": "stdout",
     "output_type": "stream",
     "text": [
      "80262\n"
     ]
    }
   ],
   "source": [
    "df = pd.read_csv(PATH+\"{}_{}.csv\".format(file_names[0],file_names[1]))\n",
    "print(len(df))"
   ]
  },
  {
   "cell_type": "code",
   "execution_count": 4,
   "metadata": {},
   "outputs": [],
   "source": [
    "# Merge text files to one text file ending .txt\n",
    "\n",
    "PATH= \"/store/harsh/data/waymo_synthetic_ft/\"\n",
    "if os.path.exists(PATH):\n",
    "    files = os.listdir(PATH)\n",
    "lines = []\n",
    "file_names = []\n",
    "for f in files:\n",
    "        if f.endswith(\".txt\"):\n",
    "            with open(PATH+f, \"r\") as file:\n",
    "                fname = f.split(\".\")[0]\n",
    "                if len(fname.split(\"_\"))==3 and fname.split(\"_\")[0]==\"filenames\":\n",
    "                    lines.append(file.readlines())\n",
    "    \n",
    "with open(PATH+\"filenames_seg.txt\", \"w\") as f:\n",
    "    for lines in lines:\n",
    "        f.writelines(lines)\n",
    "        "
   ]
  },
  {
   "cell_type": "code",
   "execution_count": 5,
   "metadata": {},
   "outputs": [
    {
     "name": "stdout",
     "output_type": "stream",
     "text": [
      "80262\n"
     ]
    }
   ],
   "source": [
    "with open(PATH+\"filenames_seg.txt\", \"r\") as f:\n",
    "    lines = f.readlines()\n",
    "    print(len(lines))"
   ]
  },
  {
   "cell_type": "markdown",
   "metadata": {},
   "source": [
    "# BDD SYNTH"
   ]
  },
  {
   "cell_type": "code",
   "execution_count": 6,
   "metadata": {},
   "outputs": [],
   "source": [
    "PATH= \"/store/harsh/data/bdd_synthetic_ft/\"\n",
    "if os.path.exists(PATH):\n",
    "    files = os.listdir(PATH)\n",
    "    \n",
    "df_list = []\n",
    "file_names = []\n",
    "for f in files:\n",
    "    if f.endswith(\".csv\"):\n",
    "        fname = f.split(\".\")[0]\n",
    "        if len(fname.split(\"_\"))==3 and fname.split(\"_\")[0]==\"metadata\":\n",
    "            file_names = fname.split(\"_\")[:-1]\n",
    "            df_list.append(pd.read_csv(PATH+f))\n",
    "\n",
    "merged_df = pd.concat(df_list, axis=0)\n",
    "merged_df.to_csv(PATH+\"{}_{}.csv\".format(file_names[0],file_names[1]), index=False)"
   ]
  },
  {
   "cell_type": "code",
   "execution_count": 7,
   "metadata": {},
   "outputs": [
    {
     "name": "stdout",
     "output_type": "stream",
     "text": [
      "54766\n"
     ]
    }
   ],
   "source": [
    "df = pd.read_csv(PATH+\"{}_{}.csv\".format(file_names[0],file_names[1]))\n",
    "print(len(df))"
   ]
  },
  {
   "cell_type": "code",
   "execution_count": 8,
   "metadata": {},
   "outputs": [],
   "source": [
    "# Merge text files to one text file ending .txt\n",
    "\n",
    "PATH= \"/store/harsh/data/bdd_synthetic_ft/\"\n",
    "if os.path.exists(PATH):\n",
    "    files = os.listdir(PATH)\n",
    "lines = []\n",
    "file_names = []\n",
    "for f in files:\n",
    "        if f.endswith(\".txt\"):\n",
    "            with open(PATH+f, \"r\") as file:\n",
    "                fname = f.split(\".\")[0]\n",
    "                if len(fname.split(\"_\"))==3 and fname.split(\"_\")[0]==\"filenames\":\n",
    "                    lines.append(file.readlines())\n",
    "    \n",
    "with open(PATH+\"filenames_seg.txt\", \"w\") as f:\n",
    "    for lines in lines:\n",
    "        f.writelines(lines)\n",
    "        "
   ]
  },
  {
   "cell_type": "code",
   "execution_count": 9,
   "metadata": {},
   "outputs": [
    {
     "name": "stdout",
     "output_type": "stream",
     "text": [
      "54766\n"
     ]
    }
   ],
   "source": [
    "with open(PATH+\"filenames_seg.txt\", \"r\") as f:\n",
    "    lines = f.readlines()\n",
    "    print(len(lines))"
   ]
  },
  {
   "cell_type": "code",
   "execution_count": 14,
   "metadata": {},
   "outputs": [
    {
     "name": "stdout",
     "output_type": "stream",
     "text": [
      "1067d00e-00000000_0_0\n",
      "\n"
     ]
    }
   ],
   "source": [
    "print(lines[0])"
   ]
  },
  {
   "cell_type": "code",
   "execution_count": null,
   "metadata": {},
   "outputs": [],
   "source": [
    "# Remove the entry from "
   ]
  },
  {
   "cell_type": "markdown",
   "metadata": {},
   "source": [
    "# Change the files from .npy to .png for masks to save space\n"
   ]
  },
  {
   "cell_type": "code",
   "execution_count": 4,
   "metadata": {},
   "outputs": [
    {
     "name": "stdout",
     "output_type": "stream",
     "text": [
      "10000\n",
      "10000\n"
     ]
    }
   ],
   "source": [
    "PATH = \"/store/harsh/data/waymo_synthetic/\"\n",
    "final_files = []\n",
    "with open(PATH+\"filenames_seg.txt\", \"r\") as f:\n",
    "    lines = f.readlines()\n",
    "    print(len(lines))\n",
    "    for line in lines:\n",
    "        line = line.strip()\n",
    "        if os.path.exists(PATH+\"/mask/\"+line+\".npy\"):\n",
    "            final_files.append(PATH+\"/mask/\"+line+\".npy\")\n",
    "        else:\n",
    "            print(\"The file does not exist\")\n",
    "\n",
    "print(len(final_files))\n"
   ]
  },
  {
   "cell_type": "code",
   "execution_count": 7,
   "metadata": {},
   "outputs": [],
   "source": [
    "from PIL import Image\n",
    "# Load the .npy files and save them as PIL image. png files\n",
    "\n",
    "for path in final_files:\n",
    "    mask = np.load(path)\n",
    "    mask = mask.astype(np.uint8).squeeze()\n",
    "    mask = Image.fromarray(mask)\n",
    "    mask.save(path.replace(\".npy\",\".png\"))\n",
    "    # delete .npy file\n",
    "    os.remove(path)\n",
    "    "
   ]
  },
  {
   "cell_type": "code",
   "execution_count": null,
   "metadata": {},
   "outputs": [],
   "source": [
    "for path in final_files:\n",
    "    # delete .npy file\n",
    "    os.remove(path)"
   ]
  },
  {
   "cell_type": "code",
   "execution_count": 8,
   "metadata": {},
   "outputs": [
    {
     "name": "stdout",
     "output_type": "stream",
     "text": [
      "10000\n",
      "10000\n"
     ]
    }
   ],
   "source": [
    "# Final check for all files\n",
    "PATH = \"/store/harsh/data/waymo_synthetic/\"\n",
    "final_files_png = []\n",
    "with open(PATH+\"filenames_seg.txt\", \"r\") as f:\n",
    "    lines = f.readlines()\n",
    "    print(len(lines))\n",
    "    for line in lines:\n",
    "        line = line.strip()\n",
    "        if os.path.exists(PATH+\"/mask/\"+line+\".png\"):\n",
    "            final_files_png.append(PATH+\"/mask/\"+line+\".png\")\n",
    "        else:\n",
    "            print(\"The file does not exist\")\n",
    "\n",
    "print(len(final_files_png))\n"
   ]
  },
  {
   "cell_type": "markdown",
   "metadata": {},
   "source": []
  }
 ],
 "metadata": {
  "kernelspec": {
   "display_name": "control-v11.8",
   "language": "python",
   "name": "python3"
  },
  "language_info": {
   "codemirror_mode": {
    "name": "ipython",
    "version": 3
   },
   "file_extension": ".py",
   "mimetype": "text/x-python",
   "name": "python",
   "nbconvert_exporter": "python",
   "pygments_lexer": "ipython3",
   "version": "3.9.18"
  },
  "orig_nbformat": 4
 },
 "nbformat": 4,
 "nbformat_minor": 2
}
