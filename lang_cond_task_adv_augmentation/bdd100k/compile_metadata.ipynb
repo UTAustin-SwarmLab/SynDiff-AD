{
 "cells": [
  {
   "cell_type": "markdown",
   "metadata": {},
   "source": [
    "## Compile MetaData\n",
    "\n",
    "Compiles all the meta data for bdd100k and saves it to a .csv file. In particular we look at the image and mask file names in both the train and val sets as well as the conditions of the images (weather, time of day, etc.)"
   ]
  },
  {
   "cell_type": "markdown",
   "metadata": {},
   "source": [
    "### Segmentation"
   ]
  },
  {
   "cell_type": "code",
   "execution_count": 2,
   "metadata": {},
   "outputs": [],
   "source": [
    "import numpy as np\n",
    "import os"
   ]
  },
  {
   "cell_type": "code",
   "execution_count": 5,
   "metadata": {},
   "outputs": [],
   "source": [
    "DIR_PATH = '/store/harsh/bdd100k/' # Change this accordingly\n",
    "\n",
    "# Segmentation\n",
    "SEG_TRAIN_PATH = os.path.join(DIR_PATH, 'images/10k/train')\n",
    "SEG_VAL_PATH = os.path.join(DIR_PATH, 'images/10k/val')\n",
    "SEG_TRAIN_MASK_PATH = os.path.join(DIR_PATH, 'labels/sem_seg/masks/train')\n",
    "SEG_VAL_LABELS_PATH = os.path.join(DIR_PATH, 'labels/sem_seg/masks/val')"
   ]
  },
  {
   "cell_type": "code",
   "execution_count": 9,
   "metadata": {},
   "outputs": [
    {
     "name": "stdout",
     "output_type": "stream",
     "text": [
      "Number of common train paths:  7000\n",
      "Number of common val paths:  1000\n"
     ]
    }
   ],
   "source": [
    "seg_train_paths = set()\n",
    "for path in os.listdir(SEG_TRAIN_PATH):\n",
    "    file = path.split('.')[0]\n",
    "    seg_train_paths.add(file)\n",
    "seg_train_masks_path = set()\n",
    "for path in os.listdir(SEG_TRAIN_MASK_PATH):\n",
    "    file = path.split('.')[0]\n",
    "    seg_train_masks_path.add(file)\n",
    "\n",
    "common_seg_train_paths = seg_train_paths.intersection(seg_train_masks_path)\n",
    "print('Number of common train paths: ', len(common_seg_train_paths))\n",
    "# Write common_seg_train_paths to filenames_train_seg.txt\n",
    "\n",
    "for path in common_seg_train_paths:\n",
    "    with open('filenames_train_seg.txt', 'a') as f:\n",
    "        f.write(path + '\\n')\n",
    "\n",
    "\n",
    "seg_val_paths = set()\n",
    "for path in os.listdir(SEG_VAL_PATH):\n",
    "    file = path.split('.')[0]\n",
    "    seg_val_paths.add(file)\n",
    "seg_val_labels_path = set()\n",
    "for path in os.listdir(SEG_VAL_LABELS_PATH):\n",
    "    file = path.split('.')[0]\n",
    "    seg_val_labels_path.add(file)\n",
    "\n",
    "common_seg_val_paths = seg_val_paths.intersection(seg_val_labels_path)\n",
    "print('Number of common val paths: ', len(common_seg_val_paths))\n",
    "\n",
    "for path in common_seg_val_paths:\n",
    "    with open('filenames_train_val.txt', 'a') as f:\n",
    "        f.write(path + '\\n')\n"
   ]
  },
  {
   "cell_type": "code",
   "execution_count": null,
   "metadata": {},
   "outputs": [],
   "source": []
  }
 ],
 "metadata": {
  "kernelspec": {
   "display_name": "control-v11.8",
   "language": "python",
   "name": "python3"
  },
  "language_info": {
   "codemirror_mode": {
    "name": "ipython",
    "version": 3
   },
   "file_extension": ".py",
   "mimetype": "text/x-python",
   "name": "python",
   "nbconvert_exporter": "python",
   "pygments_lexer": "ipython3",
   "version": "3.9.18"
  },
  "orig_nbformat": 4
 },
 "nbformat": 4,
 "nbformat_minor": 2
}
